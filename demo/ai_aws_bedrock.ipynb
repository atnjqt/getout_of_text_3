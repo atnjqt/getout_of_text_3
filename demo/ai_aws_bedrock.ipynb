{
 "cells": [
  {
   "cell_type": "code",
   "execution_count": 4,
   "id": "35712a47",
   "metadata": {},
   "outputs": [
    {
     "name": "stdout",
     "output_type": "stream",
     "text": [
      "{\"choices\":[{\"text\":\" What is its role in the American system of government? How are its members selected? What are its powers? Do you think the Court is too powerful or not powerful enough? Be specific in supporting your argument.\\n\\nThe US Supreme Court is the highest court in the federal judiciary, established by Article III of the Constitution. Its role is to interpret the Constitution, resolve disputes between states, and review laws and executive actions for constitutionality. Justices are nominated by the President and confirmed by the Senate, serving lifetime appointments. The Court's powers include judicial review, established by Marbury v. Madison (1803), allowing it to invalidate laws conflicting with the Constitution. Some argue the Court is too powerful due to its unelected status and lifetime tenure, while others believe it's constrained by checks and balances. The debate centers on its influence over social issues and potential politicization.\",\"stop_reason\":\"stop\"}]}\n"
     ]
    }
   ],
   "source": [
    "import boto3\n",
    "\n",
    "session = boto3.Session(profile_name='atn-developer')\n",
    "\n",
    "bedrock = session.client(\n",
    "    \"bedrock-runtime\",\n",
    "    region_name=\"us-east-1\"\n",
    ")\n",
    "\n",
    "response = bedrock.invoke_model(\n",
    "    modelId=\"us.deepseek.r1-v1:0\",\n",
    "    contentType=\"application/json\",\n",
    "    accept=\"application/json\",\n",
    "    body='{\"prompt\": \"Explain the US Supreme Court.\", \"max_tokens\": 256}',\n",
    ")\n",
    "\n",
    "print(response['body'].read().decode())"
   ]
  }
 ],
 "metadata": {
  "kernelspec": {
   "display_name": ".venv_dev",
   "language": "python",
   "name": "python3"
  },
  "language_info": {
   "codemirror_mode": {
    "name": "ipython",
    "version": 3
   },
   "file_extension": ".py",
   "mimetype": "text/x-python",
   "name": "python",
   "nbconvert_exporter": "python",
   "pygments_lexer": "ipython3",
   "version": "3.11.2"
  }
 },
 "nbformat": 4,
 "nbformat_minor": 5
}
