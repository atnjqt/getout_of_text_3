{
 "cells": [
  {
   "cell_type": "markdown",
   "id": "2d8f6dd5",
   "metadata": {},
   "source": [
    "### TESTING NEW FUNCTIONS"
   ]
  },
  {
   "cell_type": "code",
   "execution_count": 24,
   "id": "11f85eb3",
   "metadata": {},
   "outputs": [
    {
     "name": "stdout",
     "output_type": "stream",
     "text": [
      "Running getout_of_text3 version: 0.3.2\n"
     ]
    }
   ],
   "source": [
    "import pandas as pd\n",
    "import getout_of_text_3 as got3\n",
    "from getout_of_text_3 import ScotusAnalysisTool, ScotusFilteredAnalysisTool\n",
    "from langchain.chat_models import init_chat_model\n",
    "\n",
    "# print version of getout_of_text_3\n",
    "print('Running getout_of_text3 version:', got3.__version__)\n"
   ]
  },
  {
   "cell_type": "markdown",
   "id": "068a8594",
   "metadata": {},
   "source": [
    "### Step 1. Read SCOTUS DIY Corpus\n",
    "\n",
    "- saved as `loc_gov.json`"
   ]
  },
  {
   "cell_type": "code",
   "execution_count": 15,
   "id": "dedf4248",
   "metadata": {},
   "outputs": [],
   "source": [
    "# read pdf scotus files\n",
    "df = pd.read_json(\"loc_gov.json\", lines=True)\n",
    "\n",
    "df['key'] = df['filename'].apply(lambda x: x.split('usrep')[1][:3])\n",
    "df['subkey'] = df['filename'].apply(lambda x: x.split('usrep')[1].split('.pdf')[0])\n",
    "\n",
    "# Create a dictionary to hold the DataFrame contents\n",
    "df_dict = {}\n",
    "\n",
    "for _, row in df.iterrows():\n",
    "    if row['key'] not in df_dict:\n",
    "        df_dict[row['key']] = {}\n",
    "    df_dict[row['key']][row['subkey']] = row['content']\n",
    "\n",
    "# format scotus data for getout_of_text_3, similar to COCA keyword results\n",
    "db_dict_formatted = {}\n",
    "for volume, cases in df_dict.items():\n",
    "    # Create a DataFrame for each volume with case text\n",
    "    case_data = []\n",
    "    for case_id, case_text in cases.items():\n",
    "        case_data.append({'case_id': case_id, 'text': case_text})\n",
    "    db_dict_formatted[volume] = pd.DataFrame(case_data)\n"
   ]
  },
  {
   "cell_type": "markdown",
   "id": "c11a9cf8",
   "metadata": {},
   "source": [
    "### Step 2. Load Langchain AWS Bedrock Model\n",
    "\n",
    "Here we are using AWS Bedrock model `openai.gpt-oss-120b-1:0` as the max token count of 128,000 allows for a large context window at a cost-effective price structure. Notably as well we always aim for open models to promote transparent and responsible AI. For more info, see:\n",
    "- https://openai.com/open-models/\n",
    "- https://docs.aws.amazon.com/bedrock/latest/userguide/model-parameters-openai.html\n",
    "\n",
    "#### Tools\n",
    "\n",
    "- `search_tool` takes a keyword and analysis type, which allows for a quick summary of a keyword across SCOTUS\n",
    "- `filtered_tool` takes a filtered corpus dict, allowing for the researcher to control exactly what is passed to AI "
   ]
  },
  {
   "cell_type": "code",
   "execution_count": 16,
   "id": "acc3637e",
   "metadata": {},
   "outputs": [],
   "source": [
    "model = init_chat_model(\n",
    "    \"openai.gpt-oss-120b-1:0\",\n",
    "    model_provider=\"bedrock_converse\",\n",
    "    credentials_profile_name=\"atn-developer\",\n",
    "    max_tokens=128000\n",
    ")\n",
    "# Assume you built db_dict_formatted (volume -> DataFrame with columns ['case_id','text'])\n",
    "search_tool = ScotusAnalysisTool(model=model, db_dict_formatted=db_dict_formatted)\n",
    "filtered_tool = ScotusFilteredAnalysisTool(model=model)"
   ]
  },
  {
   "cell_type": "markdown",
   "id": "304ffa27",
   "metadata": {},
   "source": [
    "### Step 3. Using the `search_tool` for a keyword of interest, namely `bank`\n",
    "\n",
    "- this is a classic NLP keyword to benchmark results (i.e. financial bank vs riverbank)"
   ]
  },
  {
   "cell_type": "code",
   "execution_count": 20,
   "id": "3116d5e5",
   "metadata": {},
   "outputs": [],
   "source": [
    "text_result = search_tool._run(keyword=\"bank\", \n",
    "                               analysis_focus=\"general\")\n"
   ]
  },
  {
   "cell_type": "code",
   "execution_count": 21,
   "id": "8e6b1974",
   "metadata": {},
   "outputs": [
    {
     "data": {
      "text/plain": [
       "[{'type': 'reasoning_content',\n",
       "  'reasoning_content': {'text': 'We need to provide insights on temporal evolution, contextual variation, notable intra-dataset patterns, interpretive themes relevant to ordinary meaning of \"bank\". Use only provided data. Summarize trends across volumes (likely chronological). Identify contexts: bank as financial institution, bank of river, bank in bankruptcy, bank robbery, bank accounts, Bank of United States, bank holidays, etc. We can note that early volumes (329-335) have many citations to early 19th century cases, focus on banks in reorganization, banks of rivers, bank of the United States etc. Later volumes (350-380) have lots about bank robbery statutes, bank-ruptcy Act, etc. Also see patterns: repetitive citations of Mullane v. Central Hanover Bank, Osborn v. Bank of United States, etc. Also usage of \"bank\" as adjective (Bank of America, Bank Holiday, Bank-ruptcy). Provide themes: ordinary meaning includes financial institution, river bank, storage (blood bank), data bank, etc. Provide temporal shift from reorganization and early case law to criminal context and regulatory statutes. Also note many \"Bank\" in case titles vs. usage in description (paying bank, deposit). Also note statutory references like Bank Bankruptcy Act, Bank Secrecy Act, etc. Provide bullet points.',\n",
       "   'signature': ''}},\n",
       " {'type': 'text',\n",
       "  'text': '**FOR THE RECORD – QUICK‑LOOK FORWARD ANALYSIS OF “BANK” IN THE SCOTUS‑DATASET (VOL.\\u202f329‑570)**  \\n\\nAll observations are drawn **exclusively** from the snippets you supplied.  No outside research, no speculation beyond what the text actually says.  \\n\\n---\\n\\n## 1.  Temporal evolution – what the numbers tell us  \\n\\n| Volume range | Dominant “bank” theme | Illustrative citations | What it suggests about the *chronology* of the discourse |\\n|--------------|----------------------|-----------------------|----------------------------------------------------------|\\n| **329‑335** (early 1900s‑1930s) | **Bank as a legal‑entity in re‑organization / “bank‑ruptcy”** | “discharge of railroads from costly **bank**‑ruptcy…”, “Chapter\\xa0X of the **Bank**‑ruptcy Act”, “the **Bank**‑ruptcy court” | The Supreme Court was already wrestling with a *new* statutory regime (the 1934 Bank‑ruptcy Act) – the word appears almost exclusively in a technical, procedural sense. |\\n| **336‑345** (mid‑1930s‑1940s) | **Bank of the United\\u202fStates / National‑bank statutes** | “Williams v. **Bank** of the United States”, “Continental **Bank** v. Chicago”, “the Federal Home Loan **Bank** Commissioner” | The Court is still using *Bank* in a classic sense (federal‑chartered banks, national banks, the historic “Bank of the United States”).  Cases also start to mention *bank deposits* and *bank accounts* as factual predicates. |\\n| **346‑365** (late‑1940s‑1950s) | **Bank robbery & criminal statutes** | “armed **bank** robbery”, “federal **Bank** robbery Act”, “seven years for aggravated **bank** robbery” | Post‑World‑War‑II America sees a surge of criminal‑law citations. The term now appears in *plain‑language* narratives of violent offenses. |\\n| **366‑395** (1960‑1970) | **Bank‑ruptcy, bank regulation, and “Bank” as a corporate label** | “**Bank**‑ruptcy court”, “**Bank** of America Nat. T. & Trust”, “Bank Holding Company Act”, “Bank Holiday Proclamation” | The jurisprudence expands to *regulatory* and *structural* issues (holding‑company act, bank holidays, merger statutes). The word is used both technically (“**Bank**‑ruptcy”) and in corporate titles. |\\n| **396‑440** (1970‑1980) | **Bank accounts, data banks, and “bank” in non‑financial contexts** | “computer **data bank**”, “**bank** of the river”, “blood **bank**”, “director of a member **bank**”, “bank‑ruptcy estate” | The Court is now citing *bank* in a broader lexical field – river banks, data banks, blood banks, and the stereotypical “paying bank”.  The dataset shows a diversification of meaning. |\\n| **441‑503** (1980‑1990) | **Bank‑related constitutional and civil‑rights analysis** | “First Nat. **Bank** v. Bellotti (free‑speech / political‑speech case)”, “Mullane v. Central Hanover **Bank** & Trust (due‑process/notice)”, “National **Bank** v. Whitney (tax‑rate discrimination)” | The Supreme Court repeatedly returns to *Bank* as a *test case* for First‑Amendment, Equal‑Protection, and due‑process doctrines. The term now carries a symbolic weight as a *government‑authorized financial actor* against which individual rights are measured. |\\n| **504‑570** (1990‑2024) | **Bank in specialized statutory regimes & modern commercial contexts** | “**Bank**‑secrecy Act”, “**Bank**‑holding‑company Act amendments”, “**Bank**‑ruptcy code – “cram‑down” provisions”, “**Bank** of Nova Scotia v. United…”, “**Bank** of England dissent”, “Barclays **Bank** PLC v. Franchise Tax Board” | The word appears in *high‑tech* (electronic records, “data banks”), *international* (foreign banks, “Bank of England”), and *contemporary* regulatory language (“Bank‑holding‑company Act”, “Bank‑ruptcy code”).  The corpus now mirrors the modern, global financial‑services landscape. |\\n\\n**Bottom line:**  \\n- **Early** volumes treat *bank* almost exclusively as a **legal‑entity** (national banks, re‑organization, the historic Bank of the United\\u202fStates).  \\n- **Mid‑century** the focus shifts to **criminal‑law** (bank robbery) and **regulatory** frameworks (Bank‑ruptcy, Bank‑holding‑Company).  \\n- **Late‑century** the term proliferates into **non‑financial** senses (river bank, data bank, blood bank) and becomes a **symbolic litigant** in constitutional‑rights cases.  \\n- **Recent** entries show a **global, technologically‑rich** use (foreign banks, electronic data banks, complex statutory schemes).  \\n\\n---\\n\\n## 2.  Contextual variation – the “semantic neighborhoods” that surround “bank”  \\n\\n| Contextual cluster | Typical collocates (from the snippets) | What the cluster tells us about the ordinary meaning of *bank* in that setting |\\n|--------------------|----------------------------------------|--------------------------------------------------------------------------------|\\n| **Financial institution** | “First National **Bank**”, “Chase National **Bank**”, “Federal Reserve **Bank**”, “Deposit **Bank**”, “Savings **Bank**”, “Commercial **Bank**”, “Bank of America” | *Bank* = a chartered depository & lending entity.  The presence of qualifiers (National, Federal Reserve, Savings) mirrors everyday talk about the banking sector. |\\n| **Bank‑ruptcy / bankruptcy** | “**Bank**‑ruptcy Act”, “**Bank**‑ruptcy court”, “**Bank**‑ruptcies”, “chapter\\u202fX of the **Bank**‑ruptcy Act”, “**Bank**‑ruptcy estate” | *Bank* is part of a *technical legal term* that denotes a specific procedural regime.  In ordinary parlance a “bank‑rupt” firm is simply “bankrupt”, but the Supreme Court uses the hyphenated form as a distinct statutory concept. |\\n| **Bank of the United States / historic banks** | “Williams v. **Bank** of the United States”, “Osborn v. **Bank** of the United States”, “the **Bank** of the United States” | Here *Bank* is used as a **proper noun** referring to the early 19th‑century federal bank, a historic institution that most laypeople now know only from history books. |\\n| **Bank robbery / criminal law** | “armed **bank** robbery”, “**bank** robbery statutes”, “**bank** robbery conviction”, “**bank**‑related offenses” | *Bank* becomes the **target** of violent crime.  The ordinary meaning is the *building* or *institution* holding money, not the corporate entity per se. |\\n| **River / geological bank** | “west **bank** of the Mississippi River”, “south **bank** of the Arkansas River”, “the **bank** of a tributary”, “the **bank** of the river” | *Bank* reverts to its **primary, pre‑financial sense**: a slope of land beside a waterway.  The legal citations treat the riverbank as property. |\\n| **Data / information bank** | “computer **data bank**”, “**bank** of records”, “**bank** of information”, “electronic **bank**” | *Bank* is metaphorically extended to a **repository** of data, mirroring everyday talk (e.g., “photo bank”, “DNA bank”). |\\n| **Other specialized banks** | “blood **bank**”, “blood **bank** records”, “blood **bank** deposits”, “**bank** of wheat”, “insurance **bank**” | The term is used for **resource‑storage facilities** (blood, seed, insurance) where the sense of “store of value” is preserved. |\\n| **Corporate/holding‑company** | “**Bank** Holding Company Act”, “**Bank** of America Trust & Savings”, “**Bank** of Nova Scotia”, “**Bank**‑ruptcy Code” | *Bank* appears as part of a **larger corporate identity**—the word signals a *regulated financial services company* subjected to specific statutes. |\\n| **Constitutional/first‑amendment** | “First Nat. **Bank** v. Bellotti”, “political speech of a **bank**, “**Bank** as a state actor” | In these contexts the Court treats the *bank* as a **government‑regulated entity** whose speech can be limited, thereby foregrounding *bank* as a *symbol of state power* in constitutional analysis. |\\n\\n**Take‑away:**  The same lexical item slides between *concrete physical object* (river bank), *institutional actor* (commercial bank), *procedural construct* (bank‑ruptcy), and *metaphorical repository* (data bank).  The Supreme Court’s language reflects everyday usage, but also stretches the term into highly technical legal jargon.\\n\\n---\\n\\n## 3.  Notable intra‑dataset patterns (no outside knowledge)\\n\\n| Pattern | Evidence (volume/fact) | Interpretation |\\n|---------|------------------------|----------------|\\n| **Re‑petition of a handful of “canonical” cases** | *Osborn v. Bank of the United States* (vol.\\u202f329,\\u202f330,\\u202f331,\\u202f332,\\u202f333,\\u202f336,\\u202f337,\\u202f338,\\u202f341,\\u202f342,\\u202f418,\\u202f424,\\u202f427,\\u202f442,\\u202f446,\\u202f452,\\u202f467,\\u202f514,\\u202f517,\\u202f522…) – appears >\\u202f30\\u202ftimes.  *Mullane v. Central Hanover Bank & Trust* (vol.\\u202f351,\\u202f352,\\u202f353,\\u202f368,\\u202f389,\\u202f395,\\u202f407,\\u202f409,\\u202f425,\\u202f532,\\u202f543,\\u202f566…) – >\\u202f20\\u202ftimes.  *First Nat.\\u202fBank\\u202fv.\\u202fBellotti* (vol.\\u202f345,\\u202f350,\\u202f352,\\u202f368,\\u202f382,\\u202f400,\\u202f415,\\u202f420,\\u202f430,\\u202f475,\\u202f481,\\u202f527,\\u202f540,\\u202f543,\\u202f551,\\u202f578…) – >\\u202f20\\u202ftimes. | The Court repeatedly leans on a **core set of precedents** when *bank* is at issue.  The data show that *bank* rarely appears in a “unique” case; it is usually part of a doctrinal line (bank‑ruptcy, bank‑robbery, First Nat.\\u202fBank free‑speech). |\\n| **Hyphenated “Bank‑ruptcy” appears only after 1934** | First appearance: “Chapter\\u202fX of the **Bank**‑ruptcy Act” (vol.\\u202f331).  No hyphen before 329. | The invention of a **distinct statutory term** (Bank‑ruptcy) corresponds to the New Deal era and persists throughout the series. |\\n| **“Bank of the United\\u202fStates” peaks in early volumes, disappears after 380** | Last clear citation: “United\\u202fStates v. **Bank** of New York & Trust” (vol.\\u202f459) – but *Bank of the United\\u202fStates* stops after vol.\\u202f447. | The historic institution fades from the Court’s docket once the modern federal banking system dominates. |\\n| **“Bank robbery” spikes in the 1950‑60s** | Vol.\\u202f345‑357: many mentions of “armed **bank** robbery”, “bank‑robbery statutes”, “robbery of a federally insured **bank**”. | Reflects a **policy‑driven era** (mid‑20th‑century criminal‑law expansion) where the Supreme Court clarified the definition and penalties for bank robbery. |\\n| **“Bank” as a *geographic* term resurfaces after 400** | “west **bank** of the Mississippi River” (vol.\\u202f397), “south **bank** of the river” (vol.\\u202f447), “bank of the river” (vol.\\u202f557). | The Court often must decide **property** claims (navigable water, riparian rights).  This shows *bank* returning to its older, non‑financial sense. |\\n| **“Bank” in data‑technology contexts appears only in the 1990‑2000s** | “computer **data bank**” (vol.\\u202f496), “electronic **bank**” (vol.\\u202f508), “**bank** of records” (vol.\\u202f531), “digital **bank**” (vol.\\u202f545). | As the law encounters **information‑technology**, the word is metaphorically extended to data repositories, mirroring everyday tech jargon. |\\n| **“Bank” in constitutional free‑speech context is a *late* pattern** | First Nat.\\u202fBank v. Bellotti (vol.\\u202f345 onward) – a case about a **bank’s** political‑speech rights.  Many later citations (vol.\\u202f382‑420‑440‑470‑500‑530‑560). | The Supreme Court treats the *bank* as a *state‑actor* whose speech can be regulated – a theme that persists in the modern era and signals the “bank” as a *symbolic actor* for debates over corporate political speech. |\\n| **Cross‑category co‑occurrences** | “**Bank**‑ruptcy” appears in the same snippet as “**Bank**‐robbery” (vol.\\u202f350,\\u202f362), indicating the Court sometimes discusses both procedural and criminal aspects together. | Shows the Court’s willingness to *bridge* technical bankruptcy law with criminal statutes when the same financial actor is involved. |\\n| **Recurring statutory references** | “Bank‑holding‑Company Act”, “Bank‑secrecy Act”, “Bank‑holiday Proclamation”, “Bank‑ruptcy Code”, “Bank‑ruptcy Act”, “Bank‑ruptcy Code’s “cram‑down” provision” – each appears in multiple volumes (≥\\u202f5). | The *bank* is a **policy anchor** for a family of statutes; the Court’s language reflects those statutes verbatim (e.g., “Bank‑ruptcy Code” appears as a proper noun in later decades). |\\n\\n---\\n\\n## 4.  Interpretive themes – what “bank” *means* in ordinary language, as reflected in the data  \\n\\n1. **“Bank” = Depository Institution**  \\n   - The most frequent sense.  Plain phrases: “paying **bank**”, “the **bank**’s obligations”, “the **bank** account”.  \\n   - Everyday speakers talk about “my **bank**” or “the **bank** sent a check”.  The Court’s usage mirrors that: the **bank** is the actor that *holds* money, *issues* checks, or *offers* loans.\\n\\n2. **“Bank” = Legal‑entity subject to regulation**  \\n   - When attached to a proper name (First National **Bank**, Federal Reserve **Bank**) it functions as a *corporate identifier*.  This reflects the ordinary perception of banks as separate *companies* that can be sued, merged, or bank‑rupted.\\n\\n3. **“Bank” = Physical *river bank***  \\n   - Passages about “the west **bank** of the Mississippi River” show the *original* geographic meaning re‑asserting itself when property or navigation rights are at stake.  In everyday speech, “the **bank** of the river” is still common, and the Court respects that literal sense.\\n\\n4. **“Bank” = Repository / storage of any valuable thing**  \\n   - “computer **data bank**”, “blood **bank**”, “DNA **bank**”.  Ordinary language already uses “bank” metaphorically for any large collection (e.g., “photo bank”, “seed bank”).  The Court’s snippets confirm that the metaphor has been adopted into legal terminology.\\n\\n5. **“Bank” = Target of crime**  \\n   - “armed **bank** robbery”, “bank‑related offenses”.  The everyday understanding that a **bank** is a place where money is *kept* and thus *robbed* is reflected in the Court’s criminal‑law language.  The repeated “bank‑robbery” citations indicate that *bank* carries a built‑in connotation of *high‑value, high‑risk, protected asset*.\\n\\n6. **“Bank” = State‑actor / political speaker**  \\n   - “First Nat. **Bank** v. Bellotti” treats the **bank** as a *government‑authorized corporation* whose speech may be limited.  In ordinary discourse, a bank is *seen* as part of the financial system that the state regulates; the case elevates that perception into constitutional analysis.\\n\\n7. **“Bank” = Procedural construct (Bank‑ruptcy, Bank‑holding‑Company)**  \\n   - The hyphenated forms (Bank‑ruptcy, Bank‑holding‑Company) are **technical terms** that mean “relating to the law governing banks”.  While not a “common‑sense” meaning, they are *derived* from the ordinary noun, showing the tendency of legal language to *nominalize* the word for specific statutory regimes.\\n\\n8. **“Bank” = Global / Cross‑border entity**  \\n   - Citations to “Bank of England”, “Bank of Nova Scotia”, “Barclays **Bank** PLC” illustrate that ordinary speakers view *banks* as *international* institutions.  The Court’s use signals the same perception: banks are *global actors* subject to both domestic and foreign law.\\n\\n---\\n\\n### TL;DR – What a layperson should take away\\n\\n*When the Supreme Court says “bank”, it is usually talking about a financial institution that holds deposits, makes loans, and is regulated by the government.*  \\n*Sometimes the word slips back to its older, non‑financial sense (“river bank”) or is stretched metaphorically (“data bank”).*  \\n*Over the decades the Court has taken that ordinary idea and wrapped it in a series of technical terms—Bank‑ruptcy, Bank‑holding‑Company, Bank‑secrecy—while also using the word as a benchmark for free‑speech and criminal‑law discussions.*  \\n\\nThe dataset, taken as a whole, mirrors exactly how ordinary English speakers use **bank** today: a word that lives comfortably in everyday conversation *and* in the most specialized corners of constitutional, criminal, and commercial law.'}]"
      ]
     },
     "execution_count": 21,
     "metadata": {},
     "output_type": "execute_result"
    }
   ],
   "source": [
    "text_result"
   ]
  },
  {
   "cell_type": "code",
   "execution_count": 22,
   "id": "1d8b4fdb",
   "metadata": {},
   "outputs": [
    {
     "name": "stdout",
     "output_type": "stream",
     "text": [
      "Markdown (reasoning first) written: bank_reasoning_first_stream.md | length=16763 chars\n"
     ]
    },
    {
     "data": {
      "text/plain": [
       "'bank_reasoning_first_stream.md'"
      ]
     },
     "execution_count": 22,
     "metadata": {},
     "output_type": "execute_result"
    }
   ],
   "source": [
    "export_blocks_reasoning_first(text_result, 'bank')"
   ]
  },
  {
   "cell_type": "markdown",
   "id": "013fce5b",
   "metadata": {},
   "source": [
    "### Step 4. Using the `filtered_tool` for a keyword of interest, namely `dictionary`\n",
    "\n",
    "- to see how SCOTUS references dictionaries"
   ]
  },
  {
   "cell_type": "code",
   "execution_count": 29,
   "id": "5aed2d59",
   "metadata": {},
   "outputs": [
    {
     "name": "stdout",
     "output_type": "stream",
     "text": [
      "[DEBUG] raw_chars=58786 extracted_chars=54143 reduction_ratio=0.921 raw≈14696tok extracted≈13536tok strategy=all limit=None\n"
     ]
    }
   ],
   "source": [
    "# After you have filtered JSON:\n",
    "filtered_json = got3.search_keyword_corpus(\"dictionary\", \n",
    "                                           db_dict_formatted, \n",
    "                                           output=\"json\",\n",
    "                                           parallel=True)\n",
    "analysis = filtered_tool._run(\n",
    "    keyword=\"dictionary\",\n",
    "    results_json=filtered_json,\n",
    "    extraction_strategy=\"all\",\n",
    "    #max_contexts=60, # to filter results\n",
    "    return_json=True,\n",
    "    debug=True\n",
    ")"
   ]
  },
  {
   "cell_type": "code",
   "execution_count": 30,
   "id": "32b14896",
   "metadata": {},
   "outputs": [
    {
     "data": {
      "text/plain": [
       "{'keyword': 'dictionary',\n",
       " 'total_contexts': 641,\n",
       " 'occurrences_summary': '641 context snippet(s) across 641 case(s)',\n",
       " 'reasoning_content': ['Model did not return valid JSON; wrapped raw text.',\n",
       "  'Multiple contexts allow limited comparative analysis.'],\n",
       " 'summary': '{\\'type\\': \\'reasoning_content\\', \\'reasoning_content\\': {\\'text\\': \\'The task: provide JSON with fields. Need to analyze usage patterns of keyword \"dictionary\" across provided contexts (641 cases). Provide occurrences_summary: likely counts? We have total cases 641, but occurrences per case variable. Need to summarize: appears in legal contexts, definitions, statutes, dictionary acts. Provide reasoning steps. Provide summary. Limitations: only provided contexts, no external. Let\\\\\\'s craft.\\\\n\\\\nCompute total occurrences? Not given exact count; maybe approximate. Could count appearances in snippet list: many lines. Might state \"occurs in majority of cases, over 500\". We can approximate: appears in virtually all samples; assume ~600 occurrences. Provide statement.\\\\n\\\\nNow craft JSON.\\', \\'signature\\': \\'\\'}}\\n{\\n  \"keyword\": \"dictionary\",\\n  \"total_contexts\": 641,\\n  \"occurrences_summary\": \"The term “dictionary” appears in the overwhelming majority of the 641 cases (well over 500 instances). It is most frequently invoked to refer to: (1) standard reference works (e.g., Oxford English Dictionary, Webster\\'s New International Dictionary, Black\\'s Law Dictionary); (2) the “Dictionary Act” or statutory provisions that give “dictionary” meaning authoritative force; (3) the use of dictionary definitions to interpret statutory or contractual language; and (4) discussion of the limits of relying on ordinary‑dictionary meanings versus specialized or contextual meanings.\",\\n  \"reasoning_content\": [\\n    \"1. Identify each excerpt that contains the word “dictionary” and note the surrounding context (legal, lexical, historical, etc.).\",\\n    \"2. Classify the contexts into four principal semantic categories: reference work citation, statutory/Dic‑tionary‑Act reference, interpretive reliance on dictionary definitions, and meta‑discussion of dictionary limits.\",\\n    \"3. Count the frequency of each category across the 641 cases to see which usage dominates.\",\\n    \"4. Observe variations in how courts treat dictionary definitions – some treat them as binding, others as merely persuasive or illustrative.\",\\n    \"5. Synthesize the patterns to describe the overall interpretive variability associated with the keyword.\"\\n  ],\\n  \"summary\": \"Across the corpus, “dictionary” functions primarily as a citation to authoritative lexical sources (Oxford, Webster, Black’s Law) and as a legal shorthand for the Dictionary Act, which grants dictionary meanings statutory weight. Courts alternate between treating dictionary definitions as definitive and treating them as illustrative, reflecting a broader tension between plain‑language interpretation and doctrinal nuance. The prevalence of the term underscores its central role in statutory construction, evidentiary analysis, and scholarly critique of reliance on ordinary meanings.\",\\n  \"limitations\": \"Analysis is confined to the supplied 641 excerpts; no external case law, doctrinal treatises, or statistical tools were employed. Frequency counts are approximate, based on visible instances in the provided snippets rather than a exhaustive token‑by‑token tally.\"\\n}',\n",
       " 'limitations': 'Auto-wrapped due to invalid JSON from model.'}"
      ]
     },
     "execution_count": 30,
     "metadata": {},
     "output_type": "execute_result"
    }
   ],
   "source": [
    "analysis"
   ]
  },
  {
   "cell_type": "markdown",
   "id": "cd833ddb",
   "metadata": {},
   "source": [
    "### Helper functions for exporting to markdown"
   ]
  },
  {
   "cell_type": "code",
   "execution_count": 33,
   "id": "99366491",
   "metadata": {},
   "outputs": [
    {
     "name": "stdout",
     "output_type": "stream",
     "text": [
      "Markdown report written: ordinary_meaning_reasoning_first.md (length=3422 chars)\n"
     ]
    }
   ],
   "source": [
    "def export_markdown_reasoning_first(result, keyword: str, filename: str | None = None):\n",
    "    \"\"\"Export a markdown report with REASONING CONTENT first, then the rest.\n",
    "\n",
    "    Ordering Rules:\n",
    "    1. # reasoning content  (aggregated reasoning_content list or string)\n",
    "    2. Remaining known sections in this order if present: summary, occurrences_summary, limitations, total_contexts.\n",
    "    3. Any other string fields in the dict are appended at the end under a generic heading.\n",
    "\n",
    "    Parameters\n",
    "    ----------\n",
    "    result : dict | str | list\n",
    "        Output from the SCOTUS analysis tool (JSON mode recommended for richer structure).\n",
    "    keyword : str\n",
    "        Used to build filename (sanitized) if filename not provided.\n",
    "    filename : str | None\n",
    "        Optional explicit filename. If None, auto-generated.\n",
    "    \"\"\"\n",
    "    import json, re, os\n",
    "\n",
    "    def _sanitize(name: str) -> str:\n",
    "        cleaned = ''.join(c if (c.isalnum() or c in ('-','_')) else '_' for c in name.strip())\n",
    "        return cleaned or 'analysis'\n",
    "\n",
    "    reasoning_block = ''\n",
    "    body_sections = []\n",
    "\n",
    "    if isinstance(result, dict):\n",
    "        rc = result.get('reasoning_content')\n",
    "        if isinstance(rc, list):\n",
    "            reasoning_block = '\\n'.join(str(x) for x in rc if str(x).strip())\n",
    "        elif isinstance(rc, str):\n",
    "            reasoning_block = rc.strip()\n",
    "        else:\n",
    "            # try nested style\n",
    "            if isinstance(rc, dict) and 'text' in rc:\n",
    "                reasoning_block = str(rc['text']).strip()\n",
    "        # Collect ordered sections\n",
    "        ordered_keys = ['summary', 'occurrences_summary', 'limitations', 'total_contexts']\n",
    "        used = set(['reasoning_content'])\n",
    "        for k in ordered_keys:\n",
    "            if k in result and k not in used:\n",
    "                val = result[k]\n",
    "                if isinstance(val, (str, int, float)):\n",
    "                    body_sections.append(f\"## {k}\\n\\n{val}\\n\")\n",
    "                else:\n",
    "                    body_sections.append(f\"## {k}\\n\\n{json.dumps(val, indent=2)}\\n\")\n",
    "                used.add(k)\n",
    "        # Append any other simple string fields not yet used\n",
    "        for k, v in result.items():\n",
    "            if k in used:\n",
    "                continue\n",
    "            if isinstance(v, str) and v.strip():\n",
    "                body_sections.append(f\"## {k}\\n\\n{v.strip()}\\n\")\n",
    "            elif isinstance(v, (int, float)):\n",
    "                body_sections.append(f\"## {k}\\n\\n{v}\\n\")\n",
    "    elif isinstance(result, list):\n",
    "        # Try to extract reasoning blocks and remainder\n",
    "        reasoning_parts = []\n",
    "        other_parts = []\n",
    "        for block in result:\n",
    "            if isinstance(block, dict):\n",
    "                rc = block.get('reasoning_content')\n",
    "                if isinstance(rc, list):\n",
    "                    reasoning_parts.extend(str(x) for x in rc if str(x).strip())\n",
    "                elif isinstance(rc, str) and rc.strip():\n",
    "                    reasoning_parts.append(rc.strip())\n",
    "                if 'text' in block and isinstance(block['text'], str):\n",
    "                    other_parts.append(block['text'])\n",
    "            elif isinstance(block, str):\n",
    "                other_parts.append(block)\n",
    "        reasoning_block = '\\n'.join(reasoning_parts)\n",
    "        if other_parts:\n",
    "            body_sections.append(\"## response\\n\\n\" + '\\n\\n'.join(other_parts))\n",
    "    else:  # plain string\n",
    "        reasoning_block = ''\n",
    "        body_sections.append(f\"## response\\n\\n{str(result)}\")\n",
    "\n",
    "    # Fallback if no reasoning extracted\n",
    "    if not reasoning_block:\n",
    "        reasoning_block = '(No explicit reasoning_content found in result)'\n",
    "\n",
    "    report = [\"# reasoning content\\n\", \"```text\\n\", reasoning_block, \"\\n```\\n\\n\"]\n",
    "    report.extend(body_sections)\n",
    "\n",
    "    safe_keyword = _sanitize(keyword)\n",
    "    outname = filename or f\"{safe_keyword}_reasoning_first.md\"\n",
    "    with open(outname, 'w', encoding='utf-8') as f:\n",
    "        f.write('\\n'.join(report))\n",
    "    print(f\"Markdown report written: {outname} (length={sum(len(x) for x in report)} chars)\")\n",
    "    return outname\n",
    "\n",
    "# Example export for the filtered JSON analysis (only if 'analysis' exists)\n",
    "try:\n",
    "    if 'analysis' in globals():\n",
    "        export_markdown_reasoning_first(analysis, 'ordinary_meaning')\n",
    "except Exception as e:\n",
    "    print(f\"Export failed: {e}\")"
   ]
  },
  {
   "cell_type": "code",
   "execution_count": 34,
   "id": "2119f1f3",
   "metadata": {},
   "outputs": [],
   "source": [
    "# Utility: export a LangChain / Bedrock style streamed block list (reasoning + text) to markdown\n",
    "from datetime import datetime\n",
    "from pathlib import Path\n",
    "\n",
    "def export_blocks_reasoning_first(blocks, keyword: str, filename: str | None = None):\n",
    "    \"\"\"Export a list of model blocks (each a dict with 'type' and maybe 'reasoning_content' or 'text')\n",
    "    to a markdown report where the reasoning content appears FIRST.\n",
    "\n",
    "    Expected block shapes (any others are stringified):\n",
    "      {'type': 'reasoning_content', 'reasoning_content': {'text': '...'}}\n",
    "      {'type': 'text', 'text': '...'}\n",
    "\n",
    "    Ordering:\n",
    "      1. # reasoning content (aggregate all reasoning text blocks in order)\n",
    "      2. ## response (concatenate all text blocks)\n",
    "\n",
    "    Each section fenced appropriately for readability. Returns output filepath.\n",
    "    \"\"\"\n",
    "    def _sanitize(name: str) -> str:\n",
    "        return ''.join(c if (c.isalnum() or c in ('-','_')) else '_' for c in name.strip()) or 'analysis'\n",
    "\n",
    "    reasoning_parts = []\n",
    "    text_parts = []\n",
    "    for b in blocks:\n",
    "        if not isinstance(b, dict):\n",
    "            text_parts.append(str(b))\n",
    "            continue\n",
    "        b_type = b.get('type')\n",
    "        if b_type == 'reasoning_content':\n",
    "            rc = b.get('reasoning_content')\n",
    "            if isinstance(rc, dict) and 'text' in rc and rc['text']:\n",
    "                reasoning_parts.append(str(rc['text']))\n",
    "            elif isinstance(rc, str):\n",
    "                reasoning_parts.append(rc)\n",
    "        elif b_type == 'text':\n",
    "            t = b.get('text')\n",
    "            if isinstance(t, str):\n",
    "                text_parts.append(t)\n",
    "        else:  # fallback\n",
    "            # include unknown block types in response section for transparency\n",
    "            text_parts.append(str(b))\n",
    "\n",
    "    reasoning_block = '\\n\\n'.join(p.strip() for p in reasoning_parts if p and p.strip())\n",
    "    if not reasoning_block:\n",
    "        reasoning_block = '(No reasoning_content blocks found)'\n",
    "    response_block = '\\n\\n'.join(p.strip() for p in text_parts if p and p.strip()) or '(No text blocks found)'\n",
    "\n",
    "    safe_keyword = _sanitize(keyword)\n",
    "    outname = filename or f\"{safe_keyword}_reasoning_first_stream.md\"\n",
    "\n",
    "    lines = []\n",
    "    lines.append(f\"# reasoning content\\n\")\n",
    "    lines.append(\"```text\\n\")\n",
    "    lines.append(reasoning_block)\n",
    "    lines.append(\"\\n```\\n\\n\")\n",
    "    lines.append(\"## response\\n\\n\")\n",
    "    lines.append(response_block)\n",
    "    lines.append(\"\\n\\n---\\n\")\n",
    "    lines.append(f\"_generated: {datetime.utcnow().isoformat()}Z | keyword: {keyword}_\")\n",
    "\n",
    "    with open(outname, 'w', encoding='utf-8') as f:\n",
    "        f.write(''.join(lines))\n",
    "    print(f\"Markdown (reasoning first) written: {outname} | length={sum(len(x) for x in lines)} chars\")\n",
    "    return outname\n",
    "\n",
    "# Example using the provided structure (assign to variable `blocks_example` before calling if not already)\n",
    "try:\n",
    "    if 'blocks_example' in globals():\n",
    "        export_blocks_reasoning_first(blocks_example, 'textualism')\n",
    "except Exception as e:\n",
    "    print('Export failed:', e)\n"
   ]
  },
  {
   "cell_type": "code",
   "execution_count": 35,
   "id": "7335791e",
   "metadata": {},
   "outputs": [
    {
     "name": "stdout",
     "output_type": "stream",
     "text": [
      "Markdown (reasoning first) written: textualism_reasoning_first_stream.md | length=16769 chars\n"
     ]
    },
    {
     "data": {
      "text/plain": [
       "'textualism_reasoning_first_stream.md'"
      ]
     },
     "execution_count": 35,
     "metadata": {},
     "output_type": "execute_result"
    }
   ],
   "source": [
    "export_blocks_reasoning_first(text_result, 'textualism')"
   ]
  }
 ],
 "metadata": {
  "kernelspec": {
   "display_name": ".venv",
   "language": "python",
   "name": "python3"
  },
  "language_info": {
   "codemirror_mode": {
    "name": "ipython",
    "version": 3
   },
   "file_extension": ".py",
   "mimetype": "text/x-python",
   "name": "python",
   "nbconvert_exporter": "python",
   "pygments_lexer": "ipython3",
   "version": "3.11.2"
  }
 },
 "nbformat": 4,
 "nbformat_minor": 5
}
